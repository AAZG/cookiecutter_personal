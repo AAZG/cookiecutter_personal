{
 "cells": [
  {
   "cell_type": "code",
   "execution_count": null,
   "metadata": {},
   "outputs": [],
   "source": []
  }
 ],
 "metadata": {
  "kernelspec": {
   "display_name": "Python 3.10.7 64-bit (microsoft store)",
   "language": "python",
   "name": "python3"
  },
  "language_info": {
   "name": "python",
   "version": "3.10.7"
  },
  "orig_nbformat": 4,
  "vscode": {
   "interpreter": {
    "hash": "0d429492f2a679588bb7bdbd47ee788723f44c71f04f37099fb0ff73314c45eb"
   }
  }
 },
 "nbformat": 4,
 "nbformat_minor": 2
}
